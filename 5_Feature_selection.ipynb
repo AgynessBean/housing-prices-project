{
 "cells": [
  {
   "cell_type": "markdown",
   "metadata": {},
   "source": [
    "In this notebook I will apply feature selection techniques to reduce the number of features and streamline the model.\n",
    "\n",
    "I will apply the methods in conjunction with the application the the machine learning algorithm. "
   ]
  },
  {
   "cell_type": "code",
   "execution_count": 1,
   "metadata": {},
   "outputs": [],
   "source": [
    "import numpy as np\n",
    "import pandas as pd\n",
    "import matplotlib.pyplot as plt\n",
    "import seaborn as sb\n",
    "\n",
    "%matplotlib inline"
   ]
  },
  {
   "cell_type": "code",
   "execution_count": 2,
   "metadata": {},
   "outputs": [
    {
     "data": {
      "text/plain": [
       "((978, 78), (978, 78))"
      ]
     },
     "execution_count": 2,
     "metadata": {},
     "output_type": "execute_result"
    }
   ],
   "source": [
    "X_train_OCE = pd.read_csv('X_train_OCE_4.csv', index_col=[0])\n",
    "X_test_OCE = pd.read_csv('X_test_OCE_4.csv', index_col=[0])\n",
    "\n",
    "X_train_MCE = pd.read_csv('X_train_MCE_4.csv', index_col=[0])\n",
    "X_test_MCE = pd.read_csv('X_test_MCE_4.csv', index_col=[0])\n",
    "\n",
    "X_train_OCE.shape, X_train_MCE.shape"
   ]
  },
  {
   "cell_type": "code",
   "execution_count": 3,
   "metadata": {},
   "outputs": [
    {
     "name": "stdout",
     "output_type": "stream",
     "text": [
      "<class 'pandas.core.frame.DataFrame'>\n",
      "Int64Index: 978 entries, 615 to 1126\n",
      "Data columns (total 78 columns):\n",
      "MSSubClass       978 non-null int64\n",
      "MSZoning         978 non-null int64\n",
      "LotFrontage      978 non-null float64\n",
      "LotArea          978 non-null float64\n",
      "Street           978 non-null int64\n",
      "LotShape         978 non-null int64\n",
      "LandContour      978 non-null int64\n",
      "Utilities        978 non-null int64\n",
      "LotConfig        978 non-null int64\n",
      "LandSlope        978 non-null int64\n",
      "Neighborhood     978 non-null int64\n",
      "Condition1       978 non-null int64\n",
      "Condition2       978 non-null int64\n",
      "BldgType         978 non-null int64\n",
      "HouseStyle       978 non-null int64\n",
      "OverallQual      978 non-null float64\n",
      "OverallCond      978 non-null float64\n",
      "YearBuilt        978 non-null float64\n",
      "YearRemodAdd     978 non-null int64\n",
      "RoofStyle        978 non-null int64\n",
      "RoofMatl         978 non-null int64\n",
      "Exterior1st      978 non-null int64\n",
      "Exterior2nd      978 non-null int64\n",
      "MasVnrType       978 non-null int64\n",
      "MasVnrArea       978 non-null float64\n",
      "ExterQual        978 non-null int64\n",
      "ExterCond        978 non-null int64\n",
      "Foundation       978 non-null int64\n",
      "BsmtQual         978 non-null int64\n",
      "BsmtCond         978 non-null int64\n",
      "BsmtExposure     978 non-null int64\n",
      "BsmtFinType1     978 non-null int64\n",
      "BsmtFinSF1       978 non-null float64\n",
      "BsmtFinType2     978 non-null int64\n",
      "BsmtFinSF2       978 non-null int64\n",
      "BsmtUnfSF        978 non-null float64\n",
      "TotalBsmtSF      978 non-null float64\n",
      "Heating          978 non-null int64\n",
      "HeatingQC        978 non-null int64\n",
      "CentralAir       978 non-null int64\n",
      "Electrical       978 non-null int64\n",
      "1stFlrSF         978 non-null float64\n",
      "2ndFlrSF         978 non-null float64\n",
      "LowQualFinSF     978 non-null int64\n",
      "GrLivArea        978 non-null float64\n",
      "BsmtFullBath     978 non-null int64\n",
      "BsmtHalfBath     978 non-null int64\n",
      "FullBath         978 non-null int64\n",
      "HalfBath         978 non-null int64\n",
      "BedroomAbvGr     978 non-null int64\n",
      "KitchenAbvGr     978 non-null int64\n",
      "KitchenQual      978 non-null int64\n",
      "TotRmsAbvGrd     978 non-null float64\n",
      "Functional       978 non-null int64\n",
      "Fireplaces       978 non-null int64\n",
      "FireplaceQu      978 non-null int64\n",
      "GarageType       978 non-null int64\n",
      "GarageYrBlt      978 non-null float64\n",
      "GarageFinish     978 non-null int64\n",
      "GarageCars       978 non-null int64\n",
      "GarageArea       978 non-null float64\n",
      "GarageQual       978 non-null int64\n",
      "GarageCond       978 non-null int64\n",
      "PavedDrive       978 non-null int64\n",
      "WoodDeckSF       978 non-null float64\n",
      "OpenPorchSF      978 non-null float64\n",
      "EnclosedPorch    978 non-null int64\n",
      "3SsnPorch        978 non-null int64\n",
      "ScreenPorch      978 non-null int64\n",
      "PoolArea         978 non-null int64\n",
      "Fence            978 non-null int64\n",
      "MiscFeature      978 non-null int64\n",
      "MiscVal          978 non-null int64\n",
      "MoSold           978 non-null float64\n",
      "YrSold           978 non-null int64\n",
      "SaleType         978 non-null int64\n",
      "SaleCondition    978 non-null int64\n",
      "SalePrice        978 non-null int64\n",
      "dtypes: float64(18), int64(60)\n",
      "memory usage: 603.6 KB\n"
     ]
    }
   ],
   "source": [
    "X_train_OCE.info()"
   ]
  },
  {
   "cell_type": "markdown",
   "metadata": {},
   "source": [
    "Implement basic filter methods:\n",
    " - removal of constant features\n",
    " - removal of quasi-constant features\n",
    " - removal of correlated features"
   ]
  },
  {
   "cell_type": "code",
   "execution_count": 4,
   "metadata": {},
   "outputs": [
    {
     "data": {
      "text/plain": [
       "[]"
      ]
     },
     "execution_count": 4,
     "metadata": {},
     "output_type": "execute_result"
    }
   ],
   "source": [
    "#constant features\n",
    "[x for x in X_train_OCE.columns if X_train_OCE[x].std() == 0]\n",
    "#there are none"
   ]
  },
  {
   "cell_type": "code",
   "execution_count": 5,
   "metadata": {},
   "outputs": [
    {
     "data": {
      "text/plain": [
       "[]"
      ]
     },
     "execution_count": 5,
     "metadata": {},
     "output_type": "execute_result"
    }
   ],
   "source": [
    "#quasi-constant features\n",
    "[x for x in X_train_OCE.columns if X_train_OCE[x].std() <= 0.02]"
   ]
  },
  {
   "cell_type": "code",
   "execution_count": 6,
   "metadata": {},
   "outputs": [],
   "source": [
    "list = X_train_OCE.columns"
   ]
  },
  {
   "cell_type": "code",
   "execution_count": 7,
   "metadata": {},
   "outputs": [
    {
     "data": {
      "text/plain": [
       "Utilities          0.031976\n",
       "Street             0.055328\n",
       "OverallCond        0.077001\n",
       "OverallQual        0.092116\n",
       "Condition2         0.095536\n",
       "                   ...     \n",
       "MasVnrArea       174.931681\n",
       "MiscVal          345.359115\n",
       "BsmtFinSF1       436.050024\n",
       "2ndFlrSF         438.998906\n",
       "SalePrice      76175.965601\n",
       "Length: 78, dtype: float64"
      ]
     },
     "execution_count": 7,
     "metadata": {},
     "output_type": "execute_result"
    }
   ],
   "source": [
    "X_train_OCE[list].std().sort_values()\n",
    "#only utilities and street seem to be relatively constant. Quick graphical review below:"
   ]
  },
  {
   "cell_type": "code",
   "execution_count": 8,
   "metadata": {},
   "outputs": [
    {
     "data": {
      "image/png": "[encoded data removed]",
      "text/plain": [
       "<Figure size 432x288 with 1 Axes>"
      ]
     },
     "metadata": {
      "needs_background": "light"
     },
     "output_type": "display_data"
    },
    {
     "name": "stdout",
     "output_type": "stream",
     "text": [
      "1    977\n",
      "0      1\n",
      "Name: Utilities, dtype: int64\n"
     ]
    },
    {
     "data": {
      "image/png": "[encoded data removed]",
      "text/plain": [
       "<Figure size 432x288 with 1 Axes>"
      ]
     },
     "metadata": {
      "needs_background": "light"
     },
     "output_type": "display_data"
    },
    {
     "name": "stdout",
     "output_type": "stream",
     "text": [
      "1    975\n",
      "0      3\n",
      "Name: Street, dtype: int64\n"
     ]
    }
   ],
   "source": [
    "def quickplot(df,var):\n",
    "    df[var].hist()\n",
    "    plt.title(var)\n",
    "    \n",
    "    plt.show()\n",
    "    print(df[var].value_counts())\n",
    "    \n",
    "for col in 'Utilities', 'Street':\n",
    "    quickplot(X_train_OCE,col)\n",
    "    \n",
    "#the two variables seem to be pretty constant. In OCE training and test dataset, I will remove the two variables."
   ]
  },
  {
   "cell_type": "code",
   "execution_count": 9,
   "metadata": {},
   "outputs": [],
   "source": [
    "# I keep a copy of the dataset except constant and duplicated variables\n",
    "# to measure the performance of machine learning models\n",
    "# at the end of the notebook\n",
    "\n",
    "#X_train_basic_filter = X_train.copy()\n",
    "#X_test_basic_filter = X_test.copy()"
   ]
  },
  {
   "cell_type": "code",
   "execution_count": 9,
   "metadata": {},
   "outputs": [],
   "source": [
    "X_train_OCE = X_train_OCE.drop(['Utilities', 'Street'], axis=1)\n",
    "X_test_OCE = X_test_OCE.drop(['Utilities', 'Street'], axis=1)"
   ]
  },
  {
   "cell_type": "code",
   "execution_count": 10,
   "metadata": {},
   "outputs": [
    {
     "data": {
      "text/plain": [
       "OverallCond         0.077003\n",
       "OverallQual         0.092118\n",
       "TotRmsAbvGrd        0.098313\n",
       "MoSold              0.187007\n",
       "KitchenAbvGr        0.214446\n",
       "                    ...     \n",
       "GarageFinish    42348.972707\n",
       "ExterQual       51158.556507\n",
       "KitchenQual     51234.563931\n",
       "BsmtQual        51403.838560\n",
       "SalePrice       76175.965601\n",
       "Length: 78, dtype: float64"
      ]
     },
     "execution_count": 10,
     "metadata": {},
     "output_type": "execute_result"
    }
   ],
   "source": [
    "X_train_MCE[list].std().sort_values()\n",
    "#seems like there are no features that are constant enough to be removed, thus MCE and OCE sets already are different\n",
    "# by two features"
   ]
  },
  {
   "cell_type": "markdown",
   "metadata": {},
   "source": [
    "In the next cells I deal with correlated features.\n",
    "\n",
    "In some previous notebooks, we saw that there are quite some variables that are either positively or negatively correlated:"
   ]
  },
  {
   "cell_type": "code",
   "execution_count": 11,
   "metadata": {},
   "outputs": [
    {
     "data": {
      "text/html": [
       "<div>\n",
       "<style scoped>\n",
       "    .dataframe tbody tr th:only-of-type {\n",
       "        vertical-align: middle;\n",
       "    }\n",
       "\n",
       "    .dataframe tbody tr th {\n",
       "        vertical-align: top;\n",
       "    }\n",
       "\n",
       "    .dataframe thead th {\n",
       "        text-align: right;\n",
       "    }\n",
       "</style>\n",
       "<table border=\"1\" class=\"dataframe\">\n",
       "  <thead>\n",
       "    <tr style=\"text-align: right;\">\n",
       "      <th></th>\n",
       "      <th>MSSubClass</th>\n",
       "      <th>MSZoning</th>\n",
       "      <th>LotFrontage</th>\n",
       "      <th>LotArea</th>\n",
       "      <th>LotShape</th>\n",
       "      <th>LandContour</th>\n",
       "      <th>LotConfig</th>\n",
       "      <th>LandSlope</th>\n",
       "      <th>Neighborhood</th>\n",
       "      <th>Condition1</th>\n",
       "      <th>...</th>\n",
       "      <th>ScreenPorch</th>\n",
       "      <th>PoolArea</th>\n",
       "      <th>Fence</th>\n",
       "      <th>MiscFeature</th>\n",
       "      <th>MiscVal</th>\n",
       "      <th>MoSold</th>\n",
       "      <th>YrSold</th>\n",
       "      <th>SaleType</th>\n",
       "      <th>SaleCondition</th>\n",
       "      <th>SalePrice</th>\n",
       "    </tr>\n",
       "  </thead>\n",
       "  <tbody>\n",
       "    <tr>\n",
       "      <td>MSSubClass</td>\n",
       "      <td>1.000000</td>\n",
       "      <td>-0.236691</td>\n",
       "      <td>-0.455082</td>\n",
       "      <td>-0.465498</td>\n",
       "      <td>-0.092908</td>\n",
       "      <td>-0.030935</td>\n",
       "      <td>0.023520</td>\n",
       "      <td>-0.024780</td>\n",
       "      <td>0.010358</td>\n",
       "      <td>-0.020662</td>\n",
       "      <td>...</td>\n",
       "      <td>-0.053036</td>\n",
       "      <td>0.018762</td>\n",
       "      <td>0.111671</td>\n",
       "      <td>0.012166</td>\n",
       "      <td>0.029691</td>\n",
       "      <td>0.021224</td>\n",
       "      <td>-0.028582</td>\n",
       "      <td>-0.046193</td>\n",
       "      <td>-0.055909</td>\n",
       "      <td>-0.100806</td>\n",
       "    </tr>\n",
       "    <tr>\n",
       "      <td>MSZoning</td>\n",
       "      <td>-0.236691</td>\n",
       "      <td>1.000000</td>\n",
       "      <td>0.301451</td>\n",
       "      <td>0.329267</td>\n",
       "      <td>0.188008</td>\n",
       "      <td>0.073718</td>\n",
       "      <td>0.064198</td>\n",
       "      <td>0.023406</td>\n",
       "      <td>0.344197</td>\n",
       "      <td>0.141292</td>\n",
       "      <td>...</td>\n",
       "      <td>0.021340</td>\n",
       "      <td>0.023445</td>\n",
       "      <td>0.044570</td>\n",
       "      <td>0.010338</td>\n",
       "      <td>-0.005418</td>\n",
       "      <td>-0.007613</td>\n",
       "      <td>0.027969</td>\n",
       "      <td>0.156747</td>\n",
       "      <td>0.153565</td>\n",
       "      <td>0.328689</td>\n",
       "    </tr>\n",
       "    <tr>\n",
       "      <td>LotFrontage</td>\n",
       "      <td>-0.455082</td>\n",
       "      <td>0.301451</td>\n",
       "      <td>1.000000</td>\n",
       "      <td>0.657333</td>\n",
       "      <td>0.152542</td>\n",
       "      <td>0.056681</td>\n",
       "      <td>-0.197687</td>\n",
       "      <td>0.085453</td>\n",
       "      <td>0.081823</td>\n",
       "      <td>0.040543</td>\n",
       "      <td>...</td>\n",
       "      <td>0.071458</td>\n",
       "      <td>0.137415</td>\n",
       "      <td>-0.045171</td>\n",
       "      <td>-0.017561</td>\n",
       "      <td>0.013508</td>\n",
       "      <td>0.006775</td>\n",
       "      <td>0.006320</td>\n",
       "      <td>0.107399</td>\n",
       "      <td>0.123036</td>\n",
       "      <td>0.320028</td>\n",
       "    </tr>\n",
       "    <tr>\n",
       "      <td>LotArea</td>\n",
       "      <td>-0.465498</td>\n",
       "      <td>0.329267</td>\n",
       "      <td>0.657333</td>\n",
       "      <td>1.000000</td>\n",
       "      <td>0.340296</td>\n",
       "      <td>0.158477</td>\n",
       "      <td>0.027507</td>\n",
       "      <td>0.218877</td>\n",
       "      <td>0.014935</td>\n",
       "      <td>0.074783</td>\n",
       "      <td>...</td>\n",
       "      <td>0.133274</td>\n",
       "      <td>0.124663</td>\n",
       "      <td>0.011801</td>\n",
       "      <td>-0.019215</td>\n",
       "      <td>0.065197</td>\n",
       "      <td>-0.002772</td>\n",
       "      <td>-0.020725</td>\n",
       "      <td>0.068812</td>\n",
       "      <td>0.066957</td>\n",
       "      <td>0.421989</td>\n",
       "    </tr>\n",
       "    <tr>\n",
       "      <td>LotShape</td>\n",
       "      <td>-0.092908</td>\n",
       "      <td>0.188008</td>\n",
       "      <td>0.152542</td>\n",
       "      <td>0.340296</td>\n",
       "      <td>1.000000</td>\n",
       "      <td>0.137065</td>\n",
       "      <td>0.114695</td>\n",
       "      <td>0.204907</td>\n",
       "      <td>0.141930</td>\n",
       "      <td>0.115020</td>\n",
       "      <td>...</td>\n",
       "      <td>0.106865</td>\n",
       "      <td>0.050886</td>\n",
       "      <td>0.079815</td>\n",
       "      <td>-0.017322</td>\n",
       "      <td>0.016431</td>\n",
       "      <td>0.042709</td>\n",
       "      <td>-0.007888</td>\n",
       "      <td>0.030624</td>\n",
       "      <td>0.025440</td>\n",
       "      <td>0.251407</td>\n",
       "    </tr>\n",
       "    <tr>\n",
       "      <td>...</td>\n",
       "      <td>...</td>\n",
       "      <td>...</td>\n",
       "      <td>...</td>\n",
       "      <td>...</td>\n",
       "      <td>...</td>\n",
       "      <td>...</td>\n",
       "      <td>...</td>\n",
       "      <td>...</td>\n",
       "      <td>...</td>\n",
       "      <td>...</td>\n",
       "      <td>...</td>\n",
       "      <td>...</td>\n",
       "      <td>...</td>\n",
       "      <td>...</td>\n",
       "      <td>...</td>\n",
       "      <td>...</td>\n",
       "      <td>...</td>\n",
       "      <td>...</td>\n",
       "      <td>...</td>\n",
       "      <td>...</td>\n",
       "      <td>...</td>\n",
       "    </tr>\n",
       "    <tr>\n",
       "      <td>MoSold</td>\n",
       "      <td>0.021224</td>\n",
       "      <td>-0.007613</td>\n",
       "      <td>0.006775</td>\n",
       "      <td>-0.002772</td>\n",
       "      <td>0.042709</td>\n",
       "      <td>0.072370</td>\n",
       "      <td>0.013046</td>\n",
       "      <td>-0.000183</td>\n",
       "      <td>0.012613</td>\n",
       "      <td>0.061553</td>\n",
       "      <td>...</td>\n",
       "      <td>0.017059</td>\n",
       "      <td>-0.039779</td>\n",
       "      <td>-0.004360</td>\n",
       "      <td>-0.011534</td>\n",
       "      <td>0.029762</td>\n",
       "      <td>1.000000</td>\n",
       "      <td>-0.146852</td>\n",
       "      <td>0.036542</td>\n",
       "      <td>0.074709</td>\n",
       "      <td>0.047293</td>\n",
       "    </tr>\n",
       "    <tr>\n",
       "      <td>YrSold</td>\n",
       "      <td>-0.028582</td>\n",
       "      <td>0.027969</td>\n",
       "      <td>0.006320</td>\n",
       "      <td>-0.020725</td>\n",
       "      <td>-0.007888</td>\n",
       "      <td>-0.039330</td>\n",
       "      <td>0.008252</td>\n",
       "      <td>0.001885</td>\n",
       "      <td>-0.032312</td>\n",
       "      <td>0.038897</td>\n",
       "      <td>...</td>\n",
       "      <td>0.027474</td>\n",
       "      <td>-0.065427</td>\n",
       "      <td>-0.059603</td>\n",
       "      <td>-0.083157</td>\n",
       "      <td>0.031077</td>\n",
       "      <td>-0.146852</td>\n",
       "      <td>1.000000</td>\n",
       "      <td>-0.099704</td>\n",
       "      <td>-0.051327</td>\n",
       "      <td>-0.011040</td>\n",
       "    </tr>\n",
       "    <tr>\n",
       "      <td>SaleType</td>\n",
       "      <td>-0.046193</td>\n",
       "      <td>0.156747</td>\n",
       "      <td>0.107399</td>\n",
       "      <td>0.068812</td>\n",
       "      <td>0.030624</td>\n",
       "      <td>0.084437</td>\n",
       "      <td>0.059783</td>\n",
       "      <td>-0.023468</td>\n",
       "      <td>0.326009</td>\n",
       "      <td>0.085858</td>\n",
       "      <td>...</td>\n",
       "      <td>-0.055771</td>\n",
       "      <td>0.027381</td>\n",
       "      <td>0.115981</td>\n",
       "      <td>0.031330</td>\n",
       "      <td>-0.014463</td>\n",
       "      <td>0.036542</td>\n",
       "      <td>-0.099704</td>\n",
       "      <td>1.000000</td>\n",
       "      <td>0.660249</td>\n",
       "      <td>0.327484</td>\n",
       "    </tr>\n",
       "    <tr>\n",
       "      <td>SaleCondition</td>\n",
       "      <td>-0.055909</td>\n",
       "      <td>0.153565</td>\n",
       "      <td>0.123036</td>\n",
       "      <td>0.066957</td>\n",
       "      <td>0.025440</td>\n",
       "      <td>0.100719</td>\n",
       "      <td>0.012644</td>\n",
       "      <td>-0.038669</td>\n",
       "      <td>0.330872</td>\n",
       "      <td>0.094991</td>\n",
       "      <td>...</td>\n",
       "      <td>-0.061268</td>\n",
       "      <td>0.022092</td>\n",
       "      <td>0.151609</td>\n",
       "      <td>0.026110</td>\n",
       "      <td>-0.009233</td>\n",
       "      <td>0.074709</td>\n",
       "      <td>-0.051327</td>\n",
       "      <td>0.660249</td>\n",
       "      <td>1.000000</td>\n",
       "      <td>0.352941</td>\n",
       "    </tr>\n",
       "    <tr>\n",
       "      <td>SalePrice</td>\n",
       "      <td>-0.100806</td>\n",
       "      <td>0.328689</td>\n",
       "      <td>0.320028</td>\n",
       "      <td>0.421989</td>\n",
       "      <td>0.251407</td>\n",
       "      <td>0.206042</td>\n",
       "      <td>0.121845</td>\n",
       "      <td>0.083446</td>\n",
       "      <td>0.473573</td>\n",
       "      <td>0.150371</td>\n",
       "      <td>...</td>\n",
       "      <td>0.129546</td>\n",
       "      <td>0.045145</td>\n",
       "      <td>0.198308</td>\n",
       "      <td>0.068999</td>\n",
       "      <td>-0.016912</td>\n",
       "      <td>0.047293</td>\n",
       "      <td>-0.011040</td>\n",
       "      <td>0.327484</td>\n",
       "      <td>0.352941</td>\n",
       "      <td>1.000000</td>\n",
       "    </tr>\n",
       "  </tbody>\n",
       "</table>\n",
       "<p>76 rows × 76 columns</p>\n",
       "</div>"
      ],
      "text/plain": [
       "               MSSubClass  MSZoning  LotFrontage   LotArea  LotShape  \\\n",
       "MSSubClass       1.000000 -0.236691    -0.455082 -0.465498 -0.092908   \n",
       "MSZoning        -0.236691  1.000000     0.301451  0.329267  0.188008   \n",
       "LotFrontage     -0.455082  0.301451     1.000000  0.657333  0.152542   \n",
       "LotArea         -0.465498  0.329267     0.657333  1.000000  0.340296   \n",
       "LotShape        -0.092908  0.188008     0.152542  0.340296  1.000000   \n",
       "...                   ...       ...          ...       ...       ...   \n",
       "MoSold           0.021224 -0.007613     0.006775 -0.002772  0.042709   \n",
       "YrSold          -0.028582  0.027969     0.006320 -0.020725 -0.007888   \n",
       "SaleType        -0.046193  0.156747     0.107399  0.068812  0.030624   \n",
       "SaleCondition   -0.055909  0.153565     0.123036  0.066957  0.025440   \n",
       "SalePrice       -0.100806  0.328689     0.320028  0.421989  0.251407   \n",
       "\n",
       "               LandContour  LotConfig  LandSlope  Neighborhood  Condition1  \\\n",
       "MSSubClass       -0.030935   0.023520  -0.024780      0.010358   -0.020662   \n",
       "MSZoning          0.073718   0.064198   0.023406      0.344197    0.141292   \n",
       "LotFrontage       0.056681  -0.197687   0.085453      0.081823    0.040543   \n",
       "LotArea           0.158477   0.027507   0.218877      0.014935    0.074783   \n",
       "LotShape          0.137065   0.114695   0.204907      0.141930    0.115020   \n",
       "...                    ...        ...        ...           ...         ...   \n",
       "MoSold            0.072370   0.013046  -0.000183      0.012613    0.061553   \n",
       "YrSold           -0.039330   0.008252   0.001885     -0.032312    0.038897   \n",
       "SaleType          0.084437   0.059783  -0.023468      0.326009    0.085858   \n",
       "SaleCondition     0.100719   0.012644  -0.038669      0.330872    0.094991   \n",
       "SalePrice         0.206042   0.121845   0.083446      0.473573    0.150371   \n",
       "\n",
       "               ...  ScreenPorch  PoolArea     Fence  MiscFeature   MiscVal  \\\n",
       "MSSubClass     ...    -0.053036  0.018762  0.111671     0.012166  0.029691   \n",
       "MSZoning       ...     0.021340  0.023445  0.044570     0.010338 -0.005418   \n",
       "LotFrontage    ...     0.071458  0.137415 -0.045171    -0.017561  0.013508   \n",
       "LotArea        ...     0.133274  0.124663  0.011801    -0.019215  0.065197   \n",
       "LotShape       ...     0.106865  0.050886  0.079815    -0.017322  0.016431   \n",
       "...            ...          ...       ...       ...          ...       ...   \n",
       "MoSold         ...     0.017059 -0.039779 -0.004360    -0.011534  0.029762   \n",
       "YrSold         ...     0.027474 -0.065427 -0.059603    -0.083157  0.031077   \n",
       "SaleType       ...    -0.055771  0.027381  0.115981     0.031330 -0.014463   \n",
       "SaleCondition  ...    -0.061268  0.022092  0.151609     0.026110 -0.009233   \n",
       "SalePrice      ...     0.129546  0.045145  0.198308     0.068999 -0.016912   \n",
       "\n",
       "                 MoSold    YrSold  SaleType  SaleCondition  SalePrice  \n",
       "MSSubClass     0.021224 -0.028582 -0.046193      -0.055909  -0.100806  \n",
       "MSZoning      -0.007613  0.027969  0.156747       0.153565   0.328689  \n",
       "LotFrontage    0.006775  0.006320  0.107399       0.123036   0.320028  \n",
       "LotArea       -0.002772 -0.020725  0.068812       0.066957   0.421989  \n",
       "LotShape       0.042709 -0.007888  0.030624       0.025440   0.251407  \n",
       "...                 ...       ...       ...            ...        ...  \n",
       "MoSold         1.000000 -0.146852  0.036542       0.074709   0.047293  \n",
       "YrSold        -0.146852  1.000000 -0.099704      -0.051327  -0.011040  \n",
       "SaleType       0.036542 -0.099704  1.000000       0.660249   0.327484  \n",
       "SaleCondition  0.074709 -0.051327  0.660249       1.000000   0.352941  \n",
       "SalePrice      0.047293 -0.011040  0.327484       0.352941   1.000000  \n",
       "\n",
       "[76 rows x 76 columns]"
      ]
     },
     "execution_count": 11,
     "metadata": {},
     "output_type": "execute_result"
    }
   ],
   "source": [
    "X_train_OCE.corr()\n",
    "#X_train_MCE.corr()\n",
    "#in the next cells I will deal with highly correlated features and remove them from the sets."
   ]
  },
  {
   "cell_type": "code",
   "execution_count": 12,
   "metadata": {},
   "outputs": [
    {
     "data": {
      "text/plain": [
       "0.6573331354607517"
      ]
     },
     "execution_count": 12,
     "metadata": {},
     "output_type": "execute_result"
    }
   ],
   "source": [
    "corr_data = X_train_OCE.corr()\n",
    "corr_data.iloc[3,2]"
   ]
  },
  {
   "cell_type": "code",
   "execution_count": 13,
   "metadata": {},
   "outputs": [],
   "source": [
    "def correlation(dataset, threshold):\n",
    "    col_corr = set()  # Set of all the names of correlated columns\n",
    "    corr_matrix = dataset.corr()\n",
    "    for i in range(len(corr_matrix.columns)):\n",
    "        for j in range(i):\n",
    "            if abs(corr_matrix.iloc[i, j]) > threshold: # we are interested in absolute coeff value\n",
    "                colname = corr_matrix.columns[i]  # getting the name of column\n",
    "                col_corr.add(colname)\n",
    "    return col_corr\n"
   ]
  },
  {
   "cell_type": "code",
   "execution_count": 14,
   "metadata": {},
   "outputs": [
    {
     "data": {
      "text/html": [
       "<div>\n",
       "<style scoped>\n",
       "    .dataframe tbody tr th:only-of-type {\n",
       "        vertical-align: middle;\n",
       "    }\n",
       "\n",
       "    .dataframe tbody tr th {\n",
       "        vertical-align: top;\n",
       "    }\n",
       "\n",
       "    .dataframe thead th {\n",
       "        text-align: right;\n",
       "    }\n",
       "</style>\n",
       "<table border=\"1\" class=\"dataframe\">\n",
       "  <thead>\n",
       "    <tr style=\"text-align: right;\">\n",
       "      <th></th>\n",
       "      <th>MSSubClass</th>\n",
       "      <th>MSZoning</th>\n",
       "      <th>LotFrontage</th>\n",
       "      <th>LotArea</th>\n",
       "      <th>LotShape</th>\n",
       "      <th>LandContour</th>\n",
       "      <th>LotConfig</th>\n",
       "      <th>LandSlope</th>\n",
       "      <th>Neighborhood</th>\n",
       "      <th>Condition1</th>\n",
       "      <th>...</th>\n",
       "      <th>ScreenPorch</th>\n",
       "      <th>PoolArea</th>\n",
       "      <th>Fence</th>\n",
       "      <th>MiscFeature</th>\n",
       "      <th>MiscVal</th>\n",
       "      <th>MoSold</th>\n",
       "      <th>YrSold</th>\n",
       "      <th>SaleType</th>\n",
       "      <th>SaleCondition</th>\n",
       "      <th>SalePrice</th>\n",
       "    </tr>\n",
       "  </thead>\n",
       "  <tbody>\n",
       "    <tr>\n",
       "      <td>MSSubClass</td>\n",
       "      <td>1.000000</td>\n",
       "      <td>-0.236691</td>\n",
       "      <td>-0.455082</td>\n",
       "      <td>-0.465498</td>\n",
       "      <td>-0.092908</td>\n",
       "      <td>-0.030935</td>\n",
       "      <td>0.023520</td>\n",
       "      <td>-0.024780</td>\n",
       "      <td>0.010358</td>\n",
       "      <td>-0.020662</td>\n",
       "      <td>...</td>\n",
       "      <td>-0.053036</td>\n",
       "      <td>0.018762</td>\n",
       "      <td>0.111671</td>\n",
       "      <td>0.012166</td>\n",
       "      <td>0.029691</td>\n",
       "      <td>0.021224</td>\n",
       "      <td>-0.028582</td>\n",
       "      <td>-0.046193</td>\n",
       "      <td>-0.055909</td>\n",
       "      <td>-0.100806</td>\n",
       "    </tr>\n",
       "    <tr>\n",
       "      <td>MSZoning</td>\n",
       "      <td>-0.236691</td>\n",
       "      <td>1.000000</td>\n",
       "      <td>0.301451</td>\n",
       "      <td>0.329267</td>\n",
       "      <td>0.188008</td>\n",
       "      <td>0.073718</td>\n",
       "      <td>0.064198</td>\n",
       "      <td>0.023406</td>\n",
       "      <td>0.344197</td>\n",
       "      <td>0.141292</td>\n",
       "      <td>...</td>\n",
       "      <td>0.021340</td>\n",
       "      <td>0.023445</td>\n",
       "      <td>0.044570</td>\n",
       "      <td>0.010338</td>\n",
       "      <td>-0.005418</td>\n",
       "      <td>-0.007613</td>\n",
       "      <td>0.027969</td>\n",
       "      <td>0.156747</td>\n",
       "      <td>0.153565</td>\n",
       "      <td>0.328689</td>\n",
       "    </tr>\n",
       "    <tr>\n",
       "      <td>LotFrontage</td>\n",
       "      <td>-0.455082</td>\n",
       "      <td>0.301451</td>\n",
       "      <td>1.000000</td>\n",
       "      <td>0.657333</td>\n",
       "      <td>0.152542</td>\n",
       "      <td>0.056681</td>\n",
       "      <td>-0.197687</td>\n",
       "      <td>0.085453</td>\n",
       "      <td>0.081823</td>\n",
       "      <td>0.040543</td>\n",
       "      <td>...</td>\n",
       "      <td>0.071458</td>\n",
       "      <td>0.137415</td>\n",
       "      <td>-0.045171</td>\n",
       "      <td>-0.017561</td>\n",
       "      <td>0.013508</td>\n",
       "      <td>0.006775</td>\n",
       "      <td>0.006320</td>\n",
       "      <td>0.107399</td>\n",
       "      <td>0.123036</td>\n",
       "      <td>0.320028</td>\n",
       "    </tr>\n",
       "    <tr>\n",
       "      <td>LotArea</td>\n",
       "      <td>-0.465498</td>\n",
       "      <td>0.329267</td>\n",
       "      <td>0.657333</td>\n",
       "      <td>1.000000</td>\n",
       "      <td>0.340296</td>\n",
       "      <td>0.158477</td>\n",
       "      <td>0.027507</td>\n",
       "      <td>0.218877</td>\n",
       "      <td>0.014935</td>\n",
       "      <td>0.074783</td>\n",
       "      <td>...</td>\n",
       "      <td>0.133274</td>\n",
       "      <td>0.124663</td>\n",
       "      <td>0.011801</td>\n",
       "      <td>-0.019215</td>\n",
       "      <td>0.065197</td>\n",
       "      <td>-0.002772</td>\n",
       "      <td>-0.020725</td>\n",
       "      <td>0.068812</td>\n",
       "      <td>0.066957</td>\n",
       "      <td>0.421989</td>\n",
       "    </tr>\n",
       "    <tr>\n",
       "      <td>LotShape</td>\n",
       "      <td>-0.092908</td>\n",
       "      <td>0.188008</td>\n",
       "      <td>0.152542</td>\n",
       "      <td>0.340296</td>\n",
       "      <td>1.000000</td>\n",
       "      <td>0.137065</td>\n",
       "      <td>0.114695</td>\n",
       "      <td>0.204907</td>\n",
       "      <td>0.141930</td>\n",
       "      <td>0.115020</td>\n",
       "      <td>...</td>\n",
       "      <td>0.106865</td>\n",
       "      <td>0.050886</td>\n",
       "      <td>0.079815</td>\n",
       "      <td>-0.017322</td>\n",
       "      <td>0.016431</td>\n",
       "      <td>0.042709</td>\n",
       "      <td>-0.007888</td>\n",
       "      <td>0.030624</td>\n",
       "      <td>0.025440</td>\n",
       "      <td>0.251407</td>\n",
       "    </tr>\n",
       "    <tr>\n",
       "      <td>...</td>\n",
       "      <td>...</td>\n",
       "      <td>...</td>\n",
       "      <td>...</td>\n",
       "      <td>...</td>\n",
       "      <td>...</td>\n",
       "      <td>...</td>\n",
       "      <td>...</td>\n",
       "      <td>...</td>\n",
       "      <td>...</td>\n",
       "      <td>...</td>\n",
       "      <td>...</td>\n",
       "      <td>...</td>\n",
       "      <td>...</td>\n",
       "      <td>...</td>\n",
       "      <td>...</td>\n",
       "      <td>...</td>\n",
       "      <td>...</td>\n",
       "      <td>...</td>\n",
       "      <td>...</td>\n",
       "      <td>...</td>\n",
       "      <td>...</td>\n",
       "    </tr>\n",
       "    <tr>\n",
       "      <td>MoSold</td>\n",
       "      <td>0.021224</td>\n",
       "      <td>-0.007613</td>\n",
       "      <td>0.006775</td>\n",
       "      <td>-0.002772</td>\n",
       "      <td>0.042709</td>\n",
       "      <td>0.072370</td>\n",
       "      <td>0.013046</td>\n",
       "      <td>-0.000183</td>\n",
       "      <td>0.012613</td>\n",
       "      <td>0.061553</td>\n",
       "      <td>...</td>\n",
       "      <td>0.017059</td>\n",
       "      <td>-0.039779</td>\n",
       "      <td>-0.004360</td>\n",
       "      <td>-0.011534</td>\n",
       "      <td>0.029762</td>\n",
       "      <td>1.000000</td>\n",
       "      <td>-0.146852</td>\n",
       "      <td>0.036542</td>\n",
       "      <td>0.074709</td>\n",
       "      <td>0.047293</td>\n",
       "    </tr>\n",
       "    <tr>\n",
       "      <td>YrSold</td>\n",
       "      <td>-0.028582</td>\n",
       "      <td>0.027969</td>\n",
       "      <td>0.006320</td>\n",
       "      <td>-0.020725</td>\n",
       "      <td>-0.007888</td>\n",
       "      <td>-0.039330</td>\n",
       "      <td>0.008252</td>\n",
       "      <td>0.001885</td>\n",
       "      <td>-0.032312</td>\n",
       "      <td>0.038897</td>\n",
       "      <td>...</td>\n",
       "      <td>0.027474</td>\n",
       "      <td>-0.065427</td>\n",
       "      <td>-0.059603</td>\n",
       "      <td>-0.083157</td>\n",
       "      <td>0.031077</td>\n",
       "      <td>-0.146852</td>\n",
       "      <td>1.000000</td>\n",
       "      <td>-0.099704</td>\n",
       "      <td>-0.051327</td>\n",
       "      <td>-0.011040</td>\n",
       "    </tr>\n",
       "    <tr>\n",
       "      <td>SaleType</td>\n",
       "      <td>-0.046193</td>\n",
       "      <td>0.156747</td>\n",
       "      <td>0.107399</td>\n",
       "      <td>0.068812</td>\n",
       "      <td>0.030624</td>\n",
       "      <td>0.084437</td>\n",
       "      <td>0.059783</td>\n",
       "      <td>-0.023468</td>\n",
       "      <td>0.326009</td>\n",
       "      <td>0.085858</td>\n",
       "      <td>...</td>\n",
       "      <td>-0.055771</td>\n",
       "      <td>0.027381</td>\n",
       "      <td>0.115981</td>\n",
       "      <td>0.031330</td>\n",
       "      <td>-0.014463</td>\n",
       "      <td>0.036542</td>\n",
       "      <td>-0.099704</td>\n",
       "      <td>1.000000</td>\n",
       "      <td>0.660249</td>\n",
       "      <td>0.327484</td>\n",
       "    </tr>\n",
       "    <tr>\n",
       "      <td>SaleCondition</td>\n",
       "      <td>-0.055909</td>\n",
       "      <td>0.153565</td>\n",
       "      <td>0.123036</td>\n",
       "      <td>0.066957</td>\n",
       "      <td>0.025440</td>\n",
       "      <td>0.100719</td>\n",
       "      <td>0.012644</td>\n",
       "      <td>-0.038669</td>\n",
       "      <td>0.330872</td>\n",
       "      <td>0.094991</td>\n",
       "      <td>...</td>\n",
       "      <td>-0.061268</td>\n",
       "      <td>0.022092</td>\n",
       "      <td>0.151609</td>\n",
       "      <td>0.026110</td>\n",
       "      <td>-0.009233</td>\n",
       "      <td>0.074709</td>\n",
       "      <td>-0.051327</td>\n",
       "      <td>0.660249</td>\n",
       "      <td>1.000000</td>\n",
       "      <td>0.352941</td>\n",
       "    </tr>\n",
       "    <tr>\n",
       "      <td>SalePrice</td>\n",
       "      <td>-0.100806</td>\n",
       "      <td>0.328689</td>\n",
       "      <td>0.320028</td>\n",
       "      <td>0.421989</td>\n",
       "      <td>0.251407</td>\n",
       "      <td>0.206042</td>\n",
       "      <td>0.121845</td>\n",
       "      <td>0.083446</td>\n",
       "      <td>0.473573</td>\n",
       "      <td>0.150371</td>\n",
       "      <td>...</td>\n",
       "      <td>0.129546</td>\n",
       "      <td>0.045145</td>\n",
       "      <td>0.198308</td>\n",
       "      <td>0.068999</td>\n",
       "      <td>-0.016912</td>\n",
       "      <td>0.047293</td>\n",
       "      <td>-0.011040</td>\n",
       "      <td>0.327484</td>\n",
       "      <td>0.352941</td>\n",
       "      <td>1.000000</td>\n",
       "    </tr>\n",
       "  </tbody>\n",
       "</table>\n",
       "<p>76 rows × 76 columns</p>\n",
       "</div>"
      ],
      "text/plain": [
       "               MSSubClass  MSZoning  LotFrontage   LotArea  LotShape  \\\n",
       "MSSubClass       1.000000 -0.236691    -0.455082 -0.465498 -0.092908   \n",
       "MSZoning        -0.236691  1.000000     0.301451  0.329267  0.188008   \n",
       "LotFrontage     -0.455082  0.301451     1.000000  0.657333  0.152542   \n",
       "LotArea         -0.465498  0.329267     0.657333  1.000000  0.340296   \n",
       "LotShape        -0.092908  0.188008     0.152542  0.340296  1.000000   \n",
       "...                   ...       ...          ...       ...       ...   \n",
       "MoSold           0.021224 -0.007613     0.006775 -0.002772  0.042709   \n",
       "YrSold          -0.028582  0.027969     0.006320 -0.020725 -0.007888   \n",
       "SaleType        -0.046193  0.156747     0.107399  0.068812  0.030624   \n",
       "SaleCondition   -0.055909  0.153565     0.123036  0.066957  0.025440   \n",
       "SalePrice       -0.100806  0.328689     0.320028  0.421989  0.251407   \n",
       "\n",
       "               LandContour  LotConfig  LandSlope  Neighborhood  Condition1  \\\n",
       "MSSubClass       -0.030935   0.023520  -0.024780      0.010358   -0.020662   \n",
       "MSZoning          0.073718   0.064198   0.023406      0.344197    0.141292   \n",
       "LotFrontage       0.056681  -0.197687   0.085453      0.081823    0.040543   \n",
       "LotArea           0.158477   0.027507   0.218877      0.014935    0.074783   \n",
       "LotShape          0.137065   0.114695   0.204907      0.141930    0.115020   \n",
       "...                    ...        ...        ...           ...         ...   \n",
       "MoSold            0.072370   0.013046  -0.000183      0.012613    0.061553   \n",
       "YrSold           -0.039330   0.008252   0.001885     -0.032312    0.038897   \n",
       "SaleType          0.084437   0.059783  -0.023468      0.326009    0.085858   \n",
       "SaleCondition     0.100719   0.012644  -0.038669      0.330872    0.094991   \n",
       "SalePrice         0.206042   0.121845   0.083446      0.473573    0.150371   \n",
       "\n",
       "               ...  ScreenPorch  PoolArea     Fence  MiscFeature   MiscVal  \\\n",
       "MSSubClass     ...    -0.053036  0.018762  0.111671     0.012166  0.029691   \n",
       "MSZoning       ...     0.021340  0.023445  0.044570     0.010338 -0.005418   \n",
       "LotFrontage    ...     0.071458  0.137415 -0.045171    -0.017561  0.013508   \n",
       "LotArea        ...     0.133274  0.124663  0.011801    -0.019215  0.065197   \n",
       "LotShape       ...     0.106865  0.050886  0.079815    -0.017322  0.016431   \n",
       "...            ...          ...       ...       ...          ...       ...   \n",
       "MoSold         ...     0.017059 -0.039779 -0.004360    -0.011534  0.029762   \n",
       "YrSold         ...     0.027474 -0.065427 -0.059603    -0.083157  0.031077   \n",
       "SaleType       ...    -0.055771  0.027381  0.115981     0.031330 -0.014463   \n",
       "SaleCondition  ...    -0.061268  0.022092  0.151609     0.026110 -0.009233   \n",
       "SalePrice      ...     0.129546  0.045145  0.198308     0.068999 -0.016912   \n",
       "\n",
       "                 MoSold    YrSold  SaleType  SaleCondition  SalePrice  \n",
       "MSSubClass     0.021224 -0.028582 -0.046193      -0.055909  -0.100806  \n",
       "MSZoning      -0.007613  0.027969  0.156747       0.153565   0.328689  \n",
       "LotFrontage    0.006775  0.006320  0.107399       0.123036   0.320028  \n",
       "LotArea       -0.002772 -0.020725  0.068812       0.066957   0.421989  \n",
       "LotShape       0.042709 -0.007888  0.030624       0.025440   0.251407  \n",
       "...                 ...       ...       ...            ...        ...  \n",
       "MoSold         1.000000 -0.146852  0.036542       0.074709   0.047293  \n",
       "YrSold        -0.146852  1.000000 -0.099704      -0.051327  -0.011040  \n",
       "SaleType       0.036542 -0.099704  1.000000       0.660249   0.327484  \n",
       "SaleCondition  0.074709 -0.051327  0.660249       1.000000   0.352941  \n",
       "SalePrice      0.047293 -0.011040  0.327484       0.352941   1.000000  \n",
       "\n",
       "[76 rows x 76 columns]"
      ]
     },
     "execution_count": 14,
     "metadata": {},
     "output_type": "execute_result"
    }
   ],
   "source": [
    "corr_data"
   ]
  },
  {
   "cell_type": "code",
   "execution_count": 15,
   "metadata": {},
   "outputs": [],
   "source": [
    "def correlation1(data):\n",
    "    col_list = []\n",
    "    for i in range(len(data.corr())):\n",
    "        for j in range(i):\n",
    "            if abs(data.corr().iloc[i,j]) > 0.8:\n",
    "                col_name =  data.corr().columns[i]\n",
    "                col_list.append(col_name)\n",
    "    return col_list"
   ]
  },
  {
   "cell_type": "code",
   "execution_count": 16,
   "metadata": {},
   "outputs": [
    {
     "data": {
      "text/plain": [
       "['Exterior2nd',\n",
       " 'TotRmsAbvGrd',\n",
       " 'FireplaceQu',\n",
       " 'GarageQual',\n",
       " 'GarageCond',\n",
       " 'GarageCond']"
      ]
     },
     "execution_count": 16,
     "metadata": {},
     "output_type": "execute_result"
    }
   ],
   "source": [
    "correlation1(X_train_OCE)"
   ]
  },
  {
   "cell_type": "code",
   "execution_count": 17,
   "metadata": {},
   "outputs": [
    {
     "data": {
      "text/plain": [
       "GarageCond       1.000000\n",
       "GarageQual       0.847916\n",
       "GarageArea       0.827371\n",
       "GarageType       0.587293\n",
       "GarageCars       0.546344\n",
       "                   ...   \n",
       "MSSubClass      -0.052674\n",
       "EnclosedPorch   -0.087836\n",
       "LowQualFinSF    -0.103984\n",
       "KitchenAbvGr    -0.166953\n",
       "GarageYrBlt     -0.177370\n",
       "Name: GarageCond, Length: 76, dtype: float64"
      ]
     },
     "execution_count": 17,
     "metadata": {},
     "output_type": "execute_result"
    }
   ],
   "source": [
    "X_train_OCE.corr()['GarageCond'].sort_values(ascending=False)"
   ]
  },
  {
   "cell_type": "code",
   "execution_count": 19,
   "metadata": {},
   "outputs": [
    {
     "data": {
      "text/plain": [
       "TotRmsAbvGrd    1.000000\n",
       "GrLivArea       0.828497\n",
       "BedroomAbvGr    0.699181\n",
       "2ndFlrSF        0.590835\n",
       "FullBath        0.541416\n",
       "                  ...   \n",
       "LandSlope      -0.019723\n",
       "BsmtHalfBath   -0.031954\n",
       "BsmtFullBath   -0.058786\n",
       "Condition2     -0.067180\n",
       "YrSold         -0.071316\n",
       "Name: TotRmsAbvGrd, Length: 76, dtype: float64"
      ]
     },
     "execution_count": 19,
     "metadata": {},
     "output_type": "execute_result"
    }
   ],
   "source": [
    "X_train_OCE.corr()['TotRmsAbvGrd'].sort_values(ascending=False)"
   ]
  },
  {
   "cell_type": "code",
   "execution_count": 18,
   "metadata": {},
   "outputs": [
    {
     "data": {
      "text/plain": [
       "1stFlrSF         1.000000\n",
       "SalePrice        0.591700\n",
       "GrLivArea        0.528485\n",
       "LotArea          0.479236\n",
       "TotalBsmtSF      0.449368\n",
       "                   ...   \n",
       "EnclosedPorch   -0.085795\n",
       "OverallCond     -0.110802\n",
       "HalfBath        -0.153809\n",
       "2ndFlrSF        -0.242668\n",
       "MSSubClass      -0.292563\n",
       "Name: 1stFlrSF, Length: 76, dtype: float64"
      ]
     },
     "execution_count": 18,
     "metadata": {},
     "output_type": "execute_result"
    }
   ],
   "source": [
    "X_train_OCE.corr()['1stFlrSF'].sort_values(ascending=False)"
   ]
  },
  {
   "cell_type": "markdown",
   "metadata": {},
   "source": [
    "Having a quick check what variables are the variables from the list provided by the function correlated with, it is clear that the function prevented from duplicating efforts. This means, we can remove the 'list' from X_train_OCE as well as X_test_OCE. (Importantly, since I preserved the target variables in the training sets, I make sure these do not appear in among the list of variables with which the absolute correlation is over 0.8)\n",
    "\n",
    "Before doing so, I will run the fuction on the X_train_MCE set."
   ]
  },
  {
   "cell_type": "code",
   "execution_count": 19,
   "metadata": {},
   "outputs": [
    {
     "data": {
      "text/plain": [
       "['Exterior2nd',\n",
       " 'TotRmsAbvGrd',\n",
       " 'GarageQual',\n",
       " 'GarageCond',\n",
       " 'GarageCond',\n",
       " 'SaleCondition']"
      ]
     },
     "execution_count": 19,
     "metadata": {},
     "output_type": "execute_result"
    }
   ],
   "source": [
    "correlation1(X_train_MCE)"
   ]
  },
  {
   "cell_type": "code",
   "execution_count": 20,
   "metadata": {},
   "outputs": [],
   "source": [
    "#remove the correlated vars\n",
    "X_train_OCE = X_train_OCE.drop(['Exterior2nd',\n",
    " '1stFlrSF',\n",
    " 'TotRmsAbvGrd',\n",
    " 'FireplaceQu',\n",
    " 'GarageArea',\n",
    " 'GarageCond'],axis=1)\n",
    "\n",
    "X_test_OCE = X_test_OCE.drop(['Exterior2nd',\n",
    " '1stFlrSF',\n",
    " 'TotRmsAbvGrd',\n",
    " 'FireplaceQu',\n",
    " 'GarageArea',\n",
    " 'GarageCond'],axis=1)\n",
    "\n",
    "X_train_MCE = X_train_MCE.drop(['Exterior2nd',\n",
    " '1stFlrSF',\n",
    " 'TotRmsAbvGrd',\n",
    " 'GarageArea',\n",
    " 'GarageCond',\n",
    " 'SaleCondition'],axis=1)\n",
    "\n",
    "X_test_MCE = X_test_MCE.drop(['Exterior2nd',\n",
    " '1stFlrSF',\n",
    " 'TotRmsAbvGrd',\n",
    " 'GarageArea',\n",
    " 'GarageCond',\n",
    " 'SaleCondition'],axis=1)"
   ]
  },
  {
   "cell_type": "code",
   "execution_count": 21,
   "metadata": {},
   "outputs": [
    {
     "data": {
      "text/plain": [
       "((978, 70), (978, 72))"
      ]
     },
     "execution_count": 21,
     "metadata": {},
     "output_type": "execute_result"
    }
   ],
   "source": [
    "X_train_OCE.shape, X_train_MCE.shape\n",
    "#slightly reduced feature spaces on both variables."
   ]
  },
  {
   "cell_type": "code",
   "execution_count": 22,
   "metadata": {},
   "outputs": [],
   "source": [
    "#save the sets to csv\n",
    "X_train_OCE.to_csv('X_train_OCE_5.csv')\n",
    "X_test_OCE.to_csv('X_test_OCE_5.csv')\n",
    "\n",
    "X_train_MCE.to_csv('X_train_MCE_5.csv')\n",
    "X_test_MCE.to_csv('X_test_MCE_5.csv')"
   ]
  },
  {
   "cell_type": "markdown",
   "metadata": {},
   "source": [
    "Before proceeding with more feature selection methods I will try and test a ML model on the sets we have now."
   ]
  },
  {
   "cell_type": "code",
   "execution_count": 23,
   "metadata": {},
   "outputs": [],
   "source": [
    "#first, separate the y's\n",
    "y_train = X_train_OCE['SalePrice'].to_frame(name=\"SalesPrice\")\n",
    "y_test = X_test_OCE['SalePrice'].to_frame(name=\"SalesPrice\")\n",
    "#it does not matter whether we extract from OCE or MCE, as they are essentially copied of each other and the target was\n",
    "#not pre-processed\n",
    "\n",
    "#as for the training sets, we will not focus on OCE\n",
    "X_train = X_train_OCE.drop('SalePrice',axis=1)\n",
    "X_test = X_test_OCE.drop('SalePrice', axis=1)"
   ]
  },
  {
   "cell_type": "code",
   "execution_count": 24,
   "metadata": {},
   "outputs": [
    {
     "data": {
      "text/plain": [
       "((978, 69), (978, 1), (482, 69), (482, 1))"
      ]
     },
     "execution_count": 24,
     "metadata": {},
     "output_type": "execute_result"
    }
   ],
   "source": [
    "X_train.shape, y_train.shape, X_test.shape, y_test.shape"
   ]
  },
  {
   "cell_type": "code",
   "execution_count": 71,
   "metadata": {},
   "outputs": [],
   "source": [
    "#secondly, I will create a pipeline for a linear and a logistic model\n",
    "from sklearn.linear_model import LinearRegression, LogisticRegression\n",
    "from sklearn.metrics import roc_auc_score, classification_report, confusion_matrix, r2_score, explained_variance_score\n",
    "\n",
    "def process(X_train, X_test, y_train, y_test):\n",
    "    lr = LinearRegression()\n",
    "    lr.fit(X_train, y_train)\n",
    "    prediction = lr.predict(X_test)\n",
    "    print(lr.intercept_)\n",
    "    print(lr.coef_)\n",
    "    print(lr.score(X_train, y_train))\n",
    "    print(lr.score(X_test, y_test))\n",
    "    #plots\n",
    "    fix, axes = plt.subplots(1,2)\n",
    "    axes[0].scatter(y_test,prediction)  \n",
    "    axes[1].hist((y_test-prediction))\n",
    "    ###\n",
    "    print(explained_variance_score(y_test, prediction))\n",
    "    print(r2_score(y_test, prediction))\n",
    "    \n",
    "\n",
    "    "
   ]
  },
  {
   "cell_type": "code",
   "execution_count": 72,
   "metadata": {},
   "outputs": [
    {
     "name": "stdout",
     "output_type": "stream",
     "text": [
      "[-2053600.39358457]\n",
      "[[-2.04137453e+02  3.45753177e+03 -9.09176902e+03  5.10858379e+03\n",
      "   6.22253841e+02  9.79312157e+03  2.40900229e+03  7.30156321e+03\n",
      "   1.97853021e+03 -4.18102655e+02  4.06916069e+04 -5.14772245e+03\n",
      "   2.57924957e+02  1.11386720e+05  5.89312393e+04 -2.73296369e-01\n",
      "  -6.59077793e+01  3.06051058e+03 -1.36595514e+04  8.59391903e+02\n",
      "  -7.33569097e+02  2.96785390e+01  1.43788025e+04 -1.95324802e+03\n",
      "   9.22945726e+01  9.16582656e+03 -5.60578962e+03  4.15647480e+03\n",
      "   6.73499034e+02  2.55782979e+01  6.43336923e+02  1.79155013e+01\n",
      "   1.89702802e+03 -4.36044097e+03  1.37983826e+03  1.84807496e+02\n",
      "  -1.26796759e+03 -3.31597480e+03 -1.59869480e-01  4.09417490e+01\n",
      "   5.94325506e+04  1.52309749e+03 -4.73857146e+03  1.33265461e+03\n",
      "  -1.58861597e+03 -5.32190518e+03 -1.94543641e+04  9.56631584e+03\n",
      "   5.33210497e+03  4.11956212e+03 -1.45213651e+03  6.54874030e+01\n",
      "  -2.85210951e+02  1.11110760e+04 -2.04562516e+03  1.43149871e+02\n",
      "   2.20826268e+01 -8.15484078e+00  1.70392479e+01  2.87987044e+01\n",
      "   7.70045029e+01 -1.23784878e+02 -6.62579185e+02  4.38836429e+03\n",
      "   1.78375970e+00 -4.48107750e+03  7.18626918e+02  2.94976244e+03\n",
      "   5.53992907e+03]]\n",
      "0.8535385813895092\n",
      "-774.2932877334849\n",
      "-20.600292298197715\n",
      "-774.293287733485\n"
     ]
    },
    {
     "data": {
      "image/png": "[encoded data removed]",
      "text/plain": [
       "<Figure size 432x288 with 2 Axes>"
      ]
     },
     "metadata": {
      "needs_background": "light"
     },
     "output_type": "display_data"
    }
   ],
   "source": [
    "process(X_train, X_test, y_train, y_test)\n"
   ]
  },
  {
   "cell_type": "markdown",
   "metadata": {},
   "source": [
    "The linear model above does not do a good job with the data we have at hand. The errors by far do not seem to be normally distributed, and the relationship between the predictions and y_test does not seem to be perfectly linear. \n",
    "\n",
    "In addition, the explained variance score is negative - which is terrible. As well as the r2 score  - which is beyond terrible. \n",
    "\n",
    "\n",
    "Will try the same prediction with the MCE version of the datasets, but seems like the only thing we can do is to simplify the feature space and try again."
   ]
  },
  {
   "cell_type": "code",
   "execution_count": 74,
   "metadata": {},
   "outputs": [],
   "source": [
    "X_train = pd.read_csv('X_train_MCE_5.csv')\n",
    "X_test = pd.read_csv('X_test_OCE_5.csv')\n",
    "\n",
    "y_train = X_train['SalePrice'].to_frame(name=\"SalesPrice\")\n",
    "y_test = X_test['SalePrice'].to_frame(name=\"SalesPrice\")\n",
    "#it does not matter whether we extract from OCE or MCE, as they are essentially copied of each other and the target was\n",
    "#not pre-processed\n",
    "\n",
    "#as for the training sets, we will not focus on OCE\n",
    "X_train = X_train.drop('SalePrice',axis=1)\n",
    "X_test = X_test.drop('SalePrice', axis=1)"
   ]
  },
  {
   "cell_type": "code",
   "execution_count": 75,
   "metadata": {},
   "outputs": [
    {
     "ename": "ValueError",
     "evalue": "shapes (482,70) and (72,1) not aligned: 70 (dim 1) != 72 (dim 0)",
     "output_type": "error",
     "traceback": [
      "\u001b[0;31m---------------------------------------------------------------------------\u001b[0m",
      "\u001b[0;31mValueError\u001b[0m                                Traceback (most recent call last)",
      "\u001b[0;32m<ipython-input-75-af3acd78e7c9>\u001b[0m in \u001b[0;36m<module>\u001b[0;34m\u001b[0m\n\u001b[0;32m----> 1\u001b[0;31m \u001b[0mprocess\u001b[0m\u001b[0;34m(\u001b[0m\u001b[0mX_train\u001b[0m\u001b[0;34m,\u001b[0m \u001b[0mX_test\u001b[0m\u001b[0;34m,\u001b[0m \u001b[0my_train\u001b[0m\u001b[0;34m,\u001b[0m \u001b[0my_test\u001b[0m\u001b[0;34m)\u001b[0m\u001b[0;34m\u001b[0m\u001b[0;34m\u001b[0m\u001b[0m\n\u001b[0m",
      "\u001b[0;32m<ipython-input-71-d79d7e01a874>\u001b[0m in \u001b[0;36mprocess\u001b[0;34m(X_train, X_test, y_train, y_test)\u001b[0m\n\u001b[1;32m      6\u001b[0m     \u001b[0mlr\u001b[0m \u001b[0;34m=\u001b[0m \u001b[0mLinearRegression\u001b[0m\u001b[0;34m(\u001b[0m\u001b[0;34m)\u001b[0m\u001b[0;34m\u001b[0m\u001b[0;34m\u001b[0m\u001b[0m\n\u001b[1;32m      7\u001b[0m     \u001b[0mlr\u001b[0m\u001b[0;34m.\u001b[0m\u001b[0mfit\u001b[0m\u001b[0;34m(\u001b[0m\u001b[0mX_train\u001b[0m\u001b[0;34m,\u001b[0m \u001b[0my_train\u001b[0m\u001b[0;34m)\u001b[0m\u001b[0;34m\u001b[0m\u001b[0;34m\u001b[0m\u001b[0m\n\u001b[0;32m----> 8\u001b[0;31m     \u001b[0mprediction\u001b[0m \u001b[0;34m=\u001b[0m \u001b[0mlr\u001b[0m\u001b[0;34m.\u001b[0m\u001b[0mpredict\u001b[0m\u001b[0;34m(\u001b[0m\u001b[0mX_test\u001b[0m\u001b[0;34m)\u001b[0m\u001b[0;34m\u001b[0m\u001b[0;34m\u001b[0m\u001b[0m\n\u001b[0m\u001b[1;32m      9\u001b[0m     \u001b[0mprint\u001b[0m\u001b[0;34m(\u001b[0m\u001b[0mlr\u001b[0m\u001b[0;34m.\u001b[0m\u001b[0mintercept_\u001b[0m\u001b[0;34m)\u001b[0m\u001b[0;34m\u001b[0m\u001b[0;34m\u001b[0m\u001b[0m\n\u001b[1;32m     10\u001b[0m     \u001b[0mprint\u001b[0m\u001b[0;34m(\u001b[0m\u001b[0mlr\u001b[0m\u001b[0;34m.\u001b[0m\u001b[0mcoef_\u001b[0m\u001b[0;34m)\u001b[0m\u001b[0;34m\u001b[0m\u001b[0;34m\u001b[0m\u001b[0m\n",
      "\u001b[0;32m~/anaconda3/lib/python3.6/site-packages/sklearn/linear_model/base.py\u001b[0m in \u001b[0;36mpredict\u001b[0;34m(self, X)\u001b[0m\n\u001b[1;32m    219\u001b[0m             \u001b[0mReturns\u001b[0m \u001b[0mpredicted\u001b[0m \u001b[0mvalues\u001b[0m\u001b[0;34m.\u001b[0m\u001b[0;34m\u001b[0m\u001b[0;34m\u001b[0m\u001b[0m\n\u001b[1;32m    220\u001b[0m         \"\"\"\n\u001b[0;32m--> 221\u001b[0;31m         \u001b[0;32mreturn\u001b[0m \u001b[0mself\u001b[0m\u001b[0;34m.\u001b[0m\u001b[0m_decision_function\u001b[0m\u001b[0;34m(\u001b[0m\u001b[0mX\u001b[0m\u001b[0;34m)\u001b[0m\u001b[0;34m\u001b[0m\u001b[0;34m\u001b[0m\u001b[0m\n\u001b[0m\u001b[1;32m    222\u001b[0m \u001b[0;34m\u001b[0m\u001b[0m\n\u001b[1;32m    223\u001b[0m     \u001b[0m_preprocess_data\u001b[0m \u001b[0;34m=\u001b[0m \u001b[0mstaticmethod\u001b[0m\u001b[0;34m(\u001b[0m\u001b[0m_preprocess_data\u001b[0m\u001b[0;34m)\u001b[0m\u001b[0;34m\u001b[0m\u001b[0;34m\u001b[0m\u001b[0m\n",
      "\u001b[0;32m~/anaconda3/lib/python3.6/site-packages/sklearn/linear_model/base.py\u001b[0m in \u001b[0;36m_decision_function\u001b[0;34m(self, X)\u001b[0m\n\u001b[1;32m    204\u001b[0m         \u001b[0mX\u001b[0m \u001b[0;34m=\u001b[0m \u001b[0mcheck_array\u001b[0m\u001b[0;34m(\u001b[0m\u001b[0mX\u001b[0m\u001b[0;34m,\u001b[0m \u001b[0maccept_sparse\u001b[0m\u001b[0;34m=\u001b[0m\u001b[0;34m[\u001b[0m\u001b[0;34m'csr'\u001b[0m\u001b[0;34m,\u001b[0m \u001b[0;34m'csc'\u001b[0m\u001b[0;34m,\u001b[0m \u001b[0;34m'coo'\u001b[0m\u001b[0;34m]\u001b[0m\u001b[0;34m)\u001b[0m\u001b[0;34m\u001b[0m\u001b[0;34m\u001b[0m\u001b[0m\n\u001b[1;32m    205\u001b[0m         return safe_sparse_dot(X, self.coef_.T,\n\u001b[0;32m--> 206\u001b[0;31m                                dense_output=True) + self.intercept_\n\u001b[0m\u001b[1;32m    207\u001b[0m \u001b[0;34m\u001b[0m\u001b[0m\n\u001b[1;32m    208\u001b[0m     \u001b[0;32mdef\u001b[0m \u001b[0mpredict\u001b[0m\u001b[0;34m(\u001b[0m\u001b[0mself\u001b[0m\u001b[0;34m,\u001b[0m \u001b[0mX\u001b[0m\u001b[0;34m)\u001b[0m\u001b[0;34m:\u001b[0m\u001b[0;34m\u001b[0m\u001b[0;34m\u001b[0m\u001b[0m\n",
      "\u001b[0;32m~/anaconda3/lib/python3.6/site-packages/sklearn/utils/extmath.py\u001b[0m in \u001b[0;36msafe_sparse_dot\u001b[0;34m(a, b, dense_output)\u001b[0m\n\u001b[1;32m    140\u001b[0m         \u001b[0;32mreturn\u001b[0m \u001b[0mret\u001b[0m\u001b[0;34m\u001b[0m\u001b[0;34m\u001b[0m\u001b[0m\n\u001b[1;32m    141\u001b[0m     \u001b[0;32melse\u001b[0m\u001b[0;34m:\u001b[0m\u001b[0;34m\u001b[0m\u001b[0;34m\u001b[0m\u001b[0m\n\u001b[0;32m--> 142\u001b[0;31m         \u001b[0;32mreturn\u001b[0m \u001b[0mnp\u001b[0m\u001b[0;34m.\u001b[0m\u001b[0mdot\u001b[0m\u001b[0;34m(\u001b[0m\u001b[0ma\u001b[0m\u001b[0;34m,\u001b[0m \u001b[0mb\u001b[0m\u001b[0;34m)\u001b[0m\u001b[0;34m\u001b[0m\u001b[0;34m\u001b[0m\u001b[0m\n\u001b[0m\u001b[1;32m    143\u001b[0m \u001b[0;34m\u001b[0m\u001b[0m\n\u001b[1;32m    144\u001b[0m \u001b[0;34m\u001b[0m\u001b[0m\n",
      "\u001b[0;31mValueError\u001b[0m: shapes (482,70) and (72,1) not aligned: 70 (dim 1) != 72 (dim 0)"
     ]
    }
   ],
   "source": [
    "process(X_train, X_test, y_train, y_test)\n"
   ]
  },
  {
   "cell_type": "code",
   "execution_count": null,
   "metadata": {},
   "outputs": [],
   "source": []
  },
  {
   "cell_type": "code",
   "execution_count": null,
   "metadata": {},
   "outputs": [],
   "source": []
  },
  {
   "cell_type": "code",
   "execution_count": null,
   "metadata": {},
   "outputs": [],
   "source": []
  },
  {
   "cell_type": "code",
   "execution_count": null,
   "metadata": {},
   "outputs": [],
   "source": []
  }
 ],
 "metadata": {
  "kernelspec": {
   "display_name": "Python 3",
   "language": "python",
   "name": "python3"
  },
  "language_info": {
   "codemirror_mode": {
    "name": "ipython",
    "version": 3
   },
   "file_extension": ".py",
   "mimetype": "text/x-python",
   "name": "python",
   "nbconvert_exporter": "python",
   "pygments_lexer": "ipython3",
   "version": "3.6.8"
  }
 },
 "nbformat": 4,
 "nbformat_minor": 2
}
