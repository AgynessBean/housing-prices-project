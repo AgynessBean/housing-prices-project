{
 "cells": [
  {
   "cell_type": "markdown",
   "metadata": {},
   "source": [
    "In this notebook, I use the training and test sets created from the previous notebook to matematically transform them."
   ]
  },
  {
   "cell_type": "code",
   "execution_count": null,
   "metadata": {},
   "outputs": [],
   "source": [
    "import numpy as np\n",
    "import pandas as pd\n",
    "import matplotlib.pyplot as plt\n",
    "import seaborn as sb\n",
    "import scipy.stats as stats\n",
    "\n",
    "%matplotlib inline"
   ]
  },
  {
   "cell_type": "code",
   "execution_count": null,
   "metadata": {},
   "outputs": [],
   "source": [
    "X_train_OCE = pd.read_csv('X_train_OCE.csv', index_col=[0])\n",
    "X_test_OCE = pd.read_csv('X_test_OCE.csv', index_col=[0])\n",
    "\n",
    "X_train_MCE = pd.read_csv('X_train_MCE.csv', index_col=[0])\n",
    "X_test_MCE = pd.read_csv('X_test_MCE.csv', index_col=[0])"
   ]
  },
  {
   "cell_type": "code",
   "execution_count": null,
   "metadata": {},
   "outputs": [],
   "source": [
    "pd.set_option('display.max_columns', 100)\n",
    "X_train_OCE.describe()"
   ]
  },
  {
   "cell_type": "code",
   "execution_count": null,
   "metadata": {},
   "outputs": [],
   "source": [
    "X_train_MCE.describe()"
   ]
  },
  {
   "cell_type": "markdown",
   "metadata": {},
   "source": [
    "I have dealth with missing values, outliers, rare categories and encoding. Now, I will tackle separate classes of variables to:\n",
    " - transform those that are necessary.\n",
    " - discretize others."
   ]
  },
  {
   "cell_type": "code",
   "execution_count": null,
   "metadata": {},
   "outputs": [],
   "source": [
    "numeric_cols_from_start = ['MSSubClass', 'LotFrontage', 'LotArea', 'OverallQual', 'OverallCond',\n",
    "       'YearBuilt', 'YearRemodAdd', 'MasVnrArea', 'BsmtFinSF1', 'BsmtFinSF2',\n",
    "       'BsmtUnfSF', 'TotalBsmtSF', '1stFlrSF', '2ndFlrSF', 'LowQualFinSF',\n",
    "       'GrLivArea', 'BsmtFullBath', 'BsmtHalfBath', 'FullBath', 'HalfBath',\n",
    "       'BedroomAbvGr', 'KitchenAbvGr', 'TotRmsAbvGrd', 'Fireplaces',\n",
    "       'GarageYrBlt', 'GarageCars', 'GarageArea', 'WoodDeckSF', 'OpenPorchSF',\n",
    "       'EnclosedPorch', '3SsnPorch', 'ScreenPorch', 'PoolArea', 'MiscVal',\n",
    "       'MoSold', 'YrSold']\n",
    "#numeric_cols_from_start"
   ]
  },
  {
   "cell_type": "code",
   "execution_count": null,
   "metadata": {},
   "outputs": [],
   "source": [
    "#separate some chuncks of variables and plot them\n",
    "X_train_OCE[['MSSubClass',\n",
    " 'LotFrontage',\n",
    " 'LotArea',\n",
    " 'OverallQual',\n",
    " 'OverallCond',\n",
    " 'YearBuilt',\n",
    " 'YearRemodAdd',\n",
    " 'MasVnrArea',\n",
    " 'BsmtFinSF1',\n",
    " 'BsmtFinSF2',\n",
    " 'BsmtUnfSF',\n",
    " 'TotalBsmtSF',\n",
    " '1stFlrSF',\n",
    " '2ndFlrSF']].hist(figsize=(20,20),\n",
    "                                                                                   bins=20)\n",
    "plt.show()\n",
    "#variables to benefit from normalization:\n",
    "# 1stFlrSF, LotFrontage, BsmtUnfSF, LotArea, OverallCond, OverallQual, TotalBsmtSF"
   ]
  },
  {
   "cell_type": "code",
   "execution_count": null,
   "metadata": {},
   "outputs": [],
   "source": [
    "X_train_OCE[['LowQualFinSF',\n",
    " 'GrLivArea',\n",
    " 'BsmtFullBath',\n",
    " 'BsmtHalfBath',\n",
    " 'FullBath',\n",
    " 'HalfBath',\n",
    " 'BedroomAbvGr',\n",
    " 'KitchenAbvGr',\n",
    " 'TotRmsAbvGrd',\n",
    " 'Fireplaces',\n",
    " 'GarageYrBlt']].hist(figsize=(20,20),\n",
    "                                                                                   bins=20)\n",
    "plt.show()\n",
    "#GrLivArea, TotRmsAbvGrd"
   ]
  },
  {
   "cell_type": "code",
   "execution_count": null,
   "metadata": {},
   "outputs": [],
   "source": [
    "X_train_OCE[['GarageCars',\n",
    " 'GarageArea',\n",
    " 'WoodDeckSF',\n",
    " 'OpenPorchSF',\n",
    " 'EnclosedPorch',\n",
    " '3SsnPorch',\n",
    " 'ScreenPorch',\n",
    " 'PoolArea',\n",
    " 'MiscVal',\n",
    " 'MoSold',\n",
    " 'YrSold']].hist(figsize=(20,20),\n",
    "                                                                                   bins=20)\n",
    "plt.show()\n",
    "# GarageArea, MoSold"
   ]
  },
  {
   "cell_type": "code",
   "execution_count": null,
   "metadata": {},
   "outputs": [],
   "source": [
    "#pull variables to transform into a list\n",
    "to_trans = ['LotArea', 'LotFrontage', '1stFlrSF', 'BsmtUnfSF', 'OverallCond', \n",
    "            'OverallQual', 'TotalBsmtSF', 'GrLivArea', 'TotRmsAbvGrd',\n",
    "            'GarageArea', 'MoSold']\n",
    "\n",
    "# 1stFlrSF, LotFrontage, BsmtUnfSF, LotArea, OverallCond, OverallQual, TotalBsmtSF #GrLivArea, TotRmsAbvGrd\n",
    "# GarageArea, MoSold"
   ]
  },
  {
   "cell_type": "code",
   "execution_count": null,
   "metadata": {},
   "outputs": [],
   "source": [
    "from feature_engine import variable_transformers as vt\n",
    "#try the expodenntial transforme\n",
    "rt = vt.PowerTransformer(variables = ['LotArea', 'LotFrontage', '1stFlrSF', 'BsmtUnfSF', 'OverallCond', \n",
    "            'OverallQual', 'TotalBsmtSF', 'GrLivArea', 'TotRmsAbvGrd',\n",
    "            'GarageArea', 'MoSold'])\n",
    "rt.fit(X_train_OCE)"
   ]
  },
  {
   "cell_type": "code",
   "execution_count": null,
   "metadata": {},
   "outputs": [],
   "source": [
    "X_train_OCE = rt.transform(X_train_OCE)"
   ]
  },
  {
   "cell_type": "code",
   "execution_count": null,
   "metadata": {},
   "outputs": [],
   "source": [
    "#round the variables in the transformed dataset\n",
    "X_train_OCE[to_trans] = X_train_OCE[to_trans].round(4) "
   ]
  },
  {
   "cell_type": "code",
   "execution_count": null,
   "metadata": {},
   "outputs": [],
   "source": [
    "rt.fit(X_train_MCE)\n",
    "X_train_MCE = rt.transform(X_train_MCE)"
   ]
  },
  {
   "cell_type": "code",
   "execution_count": null,
   "metadata": {},
   "outputs": [],
   "source": [
    "# plot the histograms to have a quick look at the variable distribution\n",
    "# histogram and Q-Q plots\n",
    "\n",
    "def diagnostic_plots(df, variable):\n",
    "    \n",
    "    # function to plot a histogram and a Q-Q plot\n",
    "    # side by side, for a certain variable\n",
    "    \n",
    "    plt.figure(figsize=(15,6))\n",
    "    plt.subplot(1, 2, 1)\n",
    "    df[variable].hist(bins=30)\n",
    "    plt.title(variable)\n",
    "\n",
    "    plt.subplot(1, 2, 2)\n",
    "    stats.probplot(df[variable], dist=\"norm\", plot=plt)\n",
    "    plt.title(variable)\n",
    "   \n",
    "\n",
    "    plt.show() #make sure that at the end of the function the plots are displayed"
   ]
  },
  {
   "cell_type": "code",
   "execution_count": null,
   "metadata": {},
   "outputs": [],
   "source": [
    "for col in to_trans:\n",
    "    diagnostic_plots(X_train_OCE,col)"
   ]
  },
  {
   "cell_type": "code",
   "execution_count": null,
   "metadata": {},
   "outputs": [],
   "source": [
    "X_train_OCE = rt.transform(X_train_OCE)\n",
    "X_test_OCE = rt.transform(X_test_OCE)\n",
    "\n",
    "X_train_MCE = rt.transform(X_train_MCE)\n",
    "X_test_MCE = rt.transform(X_test_MCE)"
   ]
  },
  {
   "cell_type": "markdown",
   "metadata": {},
   "source": []
  },
  {
   "cell_type": "code",
   "execution_count": null,
   "metadata": {},
   "outputs": [],
   "source": [
    "X_train_OCE.to_csv('X_train_OCE_4.csv')\n",
    "X_test_OCE.to_csv('X_test_OCE_4.csv')\n",
    "\n",
    "X_train_MCE.to_csv('X_train_MCE_4.csv')\n",
    "X_test_MCE.to_csv('X_test_MCE_4.csv')"
   ]
  },
  {
   "cell_type": "code",
   "execution_count": null,
   "metadata": {},
   "outputs": [],
   "source": [
    "X_test_MCE.isnull().sum().sort_values(ascending=False)"
   ]
  },
  {
   "cell_type": "code",
   "execution_count": null,
   "metadata": {},
   "outputs": [],
   "source": []
  }
 ],
 "metadata": {
  "kernelspec": {
   "display_name": "Python 3",
   "language": "python",
   "name": "python3"
  },
  "language_info": {
   "codemirror_mode": {
    "name": "ipython",
    "version": 3
   },
   "file_extension": ".py",
   "mimetype": "text/x-python",
   "name": "python",
   "nbconvert_exporter": "python",
   "pygments_lexer": "ipython3",
   "version": "3.6.8"
  }
 },
 "nbformat": 4,
 "nbformat_minor": 2
}
